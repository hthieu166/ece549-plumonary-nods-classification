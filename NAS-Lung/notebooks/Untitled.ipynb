{
 "cells": [
  {
   "cell_type": "code",
   "execution_count": 14,
   "id": "2a2387b0",
   "metadata": {},
   "outputs": [],
   "source": [
    "import radiomics"
   ]
  },
  {
   "cell_type": "code",
   "execution_count": 18,
   "id": "e458ae41",
   "metadata": {},
   "outputs": [
    {
     "ename": "ImportError",
     "evalue": "cannot import name 'getFeatureClasses' from 'radiomics' (/home/hthieu/anaconda3/envs/py3torch/lib/python3.7/site-packages/radiomics/__init__.py)",
     "output_type": "error",
     "traceback": [
      "\u001b[0;31m---------------------------------------------------------------------------\u001b[0m",
      "\u001b[0;31mImportError\u001b[0m                               Traceback (most recent call last)",
      "\u001b[0;32m<ipython-input-18-07e07e618dec>\u001b[0m in \u001b[0;36m<module>\u001b[0;34m\u001b[0m\n\u001b[0;32m----> 1\u001b[0;31m \u001b[0;32mfrom\u001b[0m \u001b[0mradiomics\u001b[0m \u001b[0;32mimport\u001b[0m \u001b[0mfeatureextractor\u001b[0m\u001b[0;34m,\u001b[0m \u001b[0mgetTestCase\u001b[0m\u001b[0;34m\u001b[0m\u001b[0;34m\u001b[0m\u001b[0m\n\u001b[0m",
      "\u001b[0;32m~/anaconda3/envs/py3torch/lib/python3.7/site-packages/radiomics/featureextractor.py\u001b[0m in \u001b[0;36m<module>\u001b[0;34m\u001b[0m\n\u001b[1;32m     13\u001b[0m \u001b[0;32mimport\u001b[0m \u001b[0msix\u001b[0m\u001b[0;34m\u001b[0m\u001b[0;34m\u001b[0m\u001b[0m\n\u001b[1;32m     14\u001b[0m \u001b[0;34m\u001b[0m\u001b[0m\n\u001b[0;32m---> 15\u001b[0;31m \u001b[0;32mfrom\u001b[0m \u001b[0mradiomics\u001b[0m \u001b[0;32mimport\u001b[0m \u001b[0mgeneralinfo\u001b[0m\u001b[0;34m,\u001b[0m \u001b[0mgetFeatureClasses\u001b[0m\u001b[0;34m,\u001b[0m \u001b[0mgetImageTypes\u001b[0m\u001b[0;34m,\u001b[0m \u001b[0mgetParameterValidationFiles\u001b[0m\u001b[0;34m,\u001b[0m \u001b[0mimageoperations\u001b[0m\u001b[0;34m\u001b[0m\u001b[0;34m\u001b[0m\u001b[0m\n\u001b[0m\u001b[1;32m     16\u001b[0m \u001b[0;34m\u001b[0m\u001b[0m\n\u001b[1;32m     17\u001b[0m \u001b[0;34m\u001b[0m\u001b[0m\n",
      "\u001b[0;31mImportError\u001b[0m: cannot import name 'getFeatureClasses' from 'radiomics' (/home/hthieu/anaconda3/envs/py3torch/lib/python3.7/site-packages/radiomics/__init__.py)"
     ]
    }
   ],
   "source": [
    "from radiomics import featureextractor, getTestCase"
   ]
  }
 ],
 "metadata": {
  "kernelspec": {
   "display_name": "Python 3",
   "language": "python",
   "name": "python3"
  },
  "language_info": {
   "codemirror_mode": {
    "name": "ipython",
    "version": 3
   },
   "file_extension": ".py",
   "mimetype": "text/x-python",
   "name": "python",
   "nbconvert_exporter": "python",
   "pygments_lexer": "ipython3",
   "version": "3.7.10"
  }
 },
 "nbformat": 4,
 "nbformat_minor": 5
}
