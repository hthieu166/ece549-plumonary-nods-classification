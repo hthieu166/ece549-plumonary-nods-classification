{
 "cells": [
  {
   "cell_type": "code",
   "execution_count": 9,
   "metadata": {},
   "outputs": [],
   "source": [
    "import numpy as np"
   ]
  },
  {
   "cell_type": "code",
   "execution_count": 17,
   "metadata": {},
   "outputs": [
    {
     "name": "stdout",
     "output_type": "stream",
     "text": [
      "(310,)\n"
     ]
    }
   ],
   "source": [
    "pred_path = '../../log/infer-multi-views-expr-4-nlst/'\n",
    "file_path = pred_path+'/preds-nlst1.npy'\n",
    "pred_npy = np.load(file_path)[0]\n",
    "np.argmax(pred_npy, axis=-1)\n",
    "print(np.shape(np.argmax(pred_npy, axis=-1)))"
   ]
  },
  {
   "cell_type": "code",
   "execution_count": 18,
   "metadata": {},
   "outputs": [],
   "source": [
    "file_path = pred_path+'/preds-nlst2.npy'\n",
    "pred_npy = np.load(file_path)\n",
    "# pred_npy"
   ]
  },
  {
   "cell_type": "code",
   "execution_count": 19,
   "metadata": {},
   "outputs": [
    {
     "name": "stdout",
     "output_type": "stream",
     "text": [
      "1 47.096774193548384\n",
      "2 53.2258064516129\n",
      "3 80.0\n",
      "4 41.612903225806456\n",
      "5 61.61290322580645\n"
     ]
    }
   ],
   "source": [
    "preds_fin = []\n",
    "for i in range (1,6):\n",
    "    file_path = (pred_path +'/preds-nlst%d.npy' %i)\n",
    "    preds = np.load(file_path)[0]\n",
    "    p = np.argmax(preds, axis=-1)\n",
    "    print(i, list(p).count(1)/len(p)*100)\n",
    "    preds_fin.append(np.argmax(preds, axis=-1))\n"
   ]
  },
  {
   "cell_type": "code",
   "execution_count": 13,
   "metadata": {},
   "outputs": [
    {
     "name": "stdout",
     "output_type": "stream",
     "text": [
      "(5, 310)\n"
     ]
    },
    {
     "data": {
      "text/plain": [
       "array([[0, 0, 0, ..., 0, 1, 0],\n",
       "       [1, 1, 1, ..., 1, 1, 1],\n",
       "       [1, 1, 1, ..., 1, 1, 1],\n",
       "       [0, 1, 1, ..., 0, 1, 1],\n",
       "       [0, 0, 0, ..., 0, 1, 1]])"
      ]
     },
     "execution_count": 13,
     "metadata": {},
     "output_type": "execute_result"
    }
   ],
   "source": [
    "preds_fin = np.array(preds_fin)\n",
    "print(np.shape(preds_fin))\n",
    "preds_fin"
   ]
  },
  {
   "cell_type": "code",
   "execution_count": 14,
   "metadata": {},
   "outputs": [
    {
     "name": "stdout",
     "output_type": "stream",
     "text": [
      "[2 3 3 4 3 1 4 3 5 2 1 3 3 0 4 1 3 0 0 2 5 4 2 5 4 2 2 3 0 1 2 3 3 4 3 1 2\n",
      " 3 3 2 3 4 5 0 2 4 1 3 2 1 1 0 1 2 5 3 0 4 5 2 3 4 0 2 4 4 2 4 5 2 4 4 4 3\n",
      " 5 2 3 4 3 3 4 2 4 4 0 2 4 3 1 4 2 2 3 3 4 5 2 5 0 3 2 4 3 0 1 2 3 2 4 3 1\n",
      " 0 0 3 3 3 2 3 3 3 3 3 1 1 4 2 2 4 2 3 3 5 3 2 2 2 2 4 2 3 0 5 2 1 5 2 3 2\n",
      " 5 1 1 3 3 0 1 0 1 4 0 2 5 0 5 3 4 3 0 2 4 1 5 4 0 3 3 4 4 2 5 3 4 1 4 3 5\n",
      " 0 5 2 0 2 3 2 0 2 4 4 3 3 4 0 1 5 3 2 0 0 3 5 3 4 0 3 2 4 2 1 0 3 0 2 3 2\n",
      " 4 2 4 3 3 1 3 5 3 1 0 1 3 4 2 2 1 5 2 4 5 0 1 2 2 2 4 2 3 2 3 0 3 2 2 3 1\n",
      " 4 2 2 0 3 2 3 1 3 2 0 3 4 2 4 4 3 4 2 1 3 4 1 3 4 1 3 1 1 1 2 1 2 3 3 3 5\n",
      " 4 5 1 2 4 4 4 1 3 4 0 2 5 4]\n",
      "[0, 1, 1, 1, 1, 0, 1, 1, 1, 0, 0, 1, 1, 0, 1, 0, 1, 0, 0, 0, 1, 1, 0, 1, 1, 0, 0, 1, 0, 0, 0, 1, 1, 1, 1, 0, 0, 1, 1, 0, 1, 1, 1, 0, 0, 1, 0, 1, 0, 0, 0, 0, 0, 0, 1, 1, 0, 1, 1, 0, 1, 1, 0, 0, 1, 1, 0, 1, 1, 0, 1, 1, 1, 1, 1, 0, 1, 1, 1, 1, 1, 0, 1, 1, 0, 0, 1, 1, 0, 1, 0, 0, 1, 1, 1, 1, 0, 1, 0, 1, 0, 1, 1, 0, 0, 0, 1, 0, 1, 1, 0, 0, 0, 1, 1, 1, 0, 1, 1, 1, 1, 1, 0, 0, 1, 0, 0, 1, 0, 1, 1, 1, 1, 0, 0, 0, 0, 1, 0, 1, 0, 1, 0, 0, 1, 0, 1, 0, 1, 0, 0, 1, 1, 0, 0, 0, 0, 1, 0, 0, 1, 0, 1, 1, 1, 1, 0, 0, 1, 0, 1, 1, 0, 1, 1, 1, 1, 0, 1, 1, 1, 0, 1, 1, 1, 0, 1, 0, 0, 0, 1, 0, 0, 0, 1, 1, 1, 1, 1, 0, 0, 1, 1, 0, 0, 0, 1, 1, 1, 1, 0, 1, 0, 1, 0, 0, 0, 1, 0, 0, 1, 0, 1, 0, 1, 1, 1, 0, 1, 1, 1, 0, 0, 0, 1, 1, 0, 0, 0, 1, 0, 1, 1, 0, 0, 0, 0, 0, 1, 0, 1, 0, 1, 0, 1, 0, 0, 1, 0, 1, 0, 0, 0, 1, 0, 1, 0, 1, 0, 0, 1, 1, 0, 1, 1, 1, 1, 0, 0, 1, 1, 0, 1, 1, 0, 1, 0, 0, 0, 0, 0, 0, 1, 1, 1, 1, 1, 1, 0, 0, 1, 1, 1, 0, 1, 1, 0, 0, 1, 1]\n",
      "310\n"
     ]
    }
   ],
   "source": [
    "preds_fin_proc = np.sum(preds_fin, axis=0)\n",
    "print(preds_fin_proc)\n",
    "preds_fin_proc = list(map(lambda x: 1 if x>2 else 0, preds_fin_proc))\n",
    "print(preds_fin_proc)\n",
    "print(len(preds_fin_proc))"
   ]
  },
  {
   "cell_type": "code",
   "execution_count": 15,
   "metadata": {
    "scrolled": true
   },
   "outputs": [
    {
     "name": "stdout",
     "output_type": "stream",
     "text": [
      "53.5483870967742\n"
     ]
    }
   ],
   "source": [
    "print(preds_fin_proc.count(1)/len(preds_fin_proc)*100)"
   ]
  },
  {
   "cell_type": "code",
   "execution_count": 16,
   "metadata": {},
   "outputs": [],
   "source": [
    "np.save(pred_path + 'preds-nlst-voting', preds_fin_proc)"
   ]
  },
  {
   "cell_type": "code",
   "execution_count": null,
   "metadata": {},
   "outputs": [],
   "source": []
  }
 ],
 "metadata": {
  "kernelspec": {
   "display_name": "Python 3",
   "language": "python",
   "name": "python3"
  },
  "language_info": {
   "codemirror_mode": {
    "name": "ipython",
    "version": 3
   },
   "file_extension": ".py",
   "mimetype": "text/x-python",
   "name": "python",
   "nbconvert_exporter": "python",
   "pygments_lexer": "ipython3",
   "version": "3.8.5"
  }
 },
 "nbformat": 4,
 "nbformat_minor": 4
}
