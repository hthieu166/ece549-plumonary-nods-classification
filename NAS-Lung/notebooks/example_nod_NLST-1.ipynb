{
 "cells": [
  {
   "cell_type": "code",
   "execution_count": 1,
   "metadata": {},
   "outputs": [],
   "source": [
    "import pandas as pd\n",
    "import numpy as np"
   ]
  },
  {
   "cell_type": "code",
   "execution_count": 2,
   "metadata": {},
   "outputs": [],
   "source": [
    "root='/mnt/nlst/'\n",
    "img_folder=root+'/nparray2/'\n",
    "pid_file=root+'pids.txt'"
   ]
  },
  {
   "cell_type": "code",
   "execution_count": 3,
   "metadata": {},
   "outputs": [],
   "source": [
    "def get_pids_split(pid_file):\n",
    "\t\"\"\"Get pids split based on saved pid file.\n",
    "    pid_file: string. Location of pid file\n",
    "    Returns: train_pos, val_pos, test_pos, train_neg, val_neg, test_neg: \n",
    "    \tlists of pids for corresponding split\n",
    "    \"\"\"\n",
    "    # Open pid file and read contents\n",
    "\tf = open(pid_file, 'r') \n",
    "\tlines = f.readlines() \n",
    "\tlines = [line.strip('\\n') for line in lines]\n",
    "\n",
    "\t# Map lines to list of pids for each categories\n",
    "\ttrain_pos = list(map(int, lines[1].split(','))) \n",
    "\tval_pos = list(map(int, lines[2].split(',')))  \n",
    "\ttest_pos = list(map(int, lines[3].split(',')))  \n",
    "\ttrain_neg = list(map(int, lines[4].split(','))) \n",
    "\tval_neg = list(map(int, lines[5].split(',')))  \n",
    "\ttest_neg = list(map(int, lines[6].split(',')))  \n",
    "\treturn train_pos, val_pos, test_pos, train_neg, val_neg, test_neg"
   ]
  },
  {
   "cell_type": "code",
   "execution_count": 5,
   "metadata": {},
   "outputs": [],
   "source": [
    "train_pos, val_pos, test_pos, train_neg, val_neg, test_neg = get_pids_split(pid_file)\n",
    "pids=train_pos"
   ]
  },
  {
   "cell_type": "code",
   "execution_count": 6,
   "metadata": {},
   "outputs": [],
   "source": [
    "def load_nodule(path, mean_nods = 443.16226803816096, std_nods = 574.5850006260475):\n",
    "\t\"\"\"Load nodule from npy file based on path, nodules already cut to size (64, 128, 128),\n",
    "\tthen normalize based on pre-computed mean and std of all nodules.\n",
    "\tNodules from npy files has been cut roughly (90x90x90 mm^3) from nodule csv file\n",
    "\tresampled to new_spacing (slice thickness = 1.4, pixel spacing = .7, .7) to size (64, 128, 128),\n",
    "\tInputs:\n",
    "\tmean_nods: pre-computed nodules mean\n",
    "\tstd_nods: pre-computed nodules standard deviation\n",
    "\tReturns:\n",
    "\tnodule: 3D torch tensor of nodule pixel array, type float, size (slices=64, h=128, w=128)\n",
    "\t\tnodules image from npy file\n",
    "    \"\"\"\n",
    "\tnodule = np.load(path)\n",
    "\tnodule = nodule[:64, :128, :128]\n",
    "\tnodule = (nodule - mean_nods)/std_nods\n",
    "\treturn nodule"
   ]
  },
  {
   "cell_type": "code",
   "execution_count": 7,
   "metadata": {},
   "outputs": [],
   "source": [
    "from glob import glob\n",
    "files = glob(img_folder+'/*')\n",
    "nodules=[]\n",
    "for f in files:\n",
    "    nodules.append(load_nodule(f))"
   ]
  },
  {
   "cell_type": "code",
   "execution_count": 8,
   "metadata": {},
   "outputs": [
    {
     "data": {
      "text/plain": [
       "(64, 128, 128)"
      ]
     },
     "execution_count": 8,
     "metadata": {},
     "output_type": "execute_result"
    }
   ],
   "source": [
    "np.shape(nodules[0])"
   ]
  },
  {
   "cell_type": "code",
   "execution_count": null,
   "metadata": {},
   "outputs": [],
   "source": []
  }
 ],
 "metadata": {
  "kernelspec": {
   "display_name": "Python 3",
   "language": "python",
   "name": "python3"
  },
  "language_info": {
   "codemirror_mode": {
    "name": "ipython",
    "version": 3
   },
   "file_extension": ".py",
   "mimetype": "text/x-python",
   "name": "python",
   "nbconvert_exporter": "python",
   "pygments_lexer": "ipython3",
   "version": "3.7.10"
  }
 },
 "nbformat": 4,
 "nbformat_minor": 4
}
