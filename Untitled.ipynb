{
 "cells": [
  {
   "cell_type": "code",
   "execution_count": 1,
   "metadata": {},
   "outputs": [],
   "source": [
    "import numpy as np\n",
    "from matplotlib import pyplot as plt\n",
    "import SimpleITK as sitk\n",
    "from matplotlib.patches import Rectangle\n",
    "from PIL import Image, ImageDraw\n",
    "import os.path as osp\n",
    "import torch as T"
   ]
  },
  {
   "cell_type": "code",
   "execution_count": 2,
   "metadata": {},
   "outputs": [
    {
     "data": {
      "text/plain": [
       "'1.6.0'"
      ]
     },
     "execution_count": 2,
     "metadata": {},
     "output_type": "execute_result"
    }
   ],
   "source": [
    "T.__version__"
   ]
  },
  {
   "cell_type": "code",
   "execution_count": 4,
   "metadata": {},
   "outputs": [
    {
     "ename": "ModuleNotFoundError",
     "evalue": "No module named 'models'",
     "output_type": "error",
     "traceback": [
      "\u001b[0;31m---------------------------------------------------------------------------\u001b[0m",
      "\u001b[0;31mModuleNotFoundError\u001b[0m                       Traceback (most recent call last)",
      "\u001b[0;32m<ipython-input-4-4b2d87382423>\u001b[0m in \u001b[0;36m<module>\u001b[0;34m\u001b[0m\n\u001b[1;32m      1\u001b[0m \u001b[0mmodel_path\u001b[0m \u001b[0;34m=\u001b[0m \u001b[0;34m\"./NAS-Lung/log/ckpt/model-1-ckpt-5.t7\"\u001b[0m\u001b[0;34m\u001b[0m\u001b[0;34m\u001b[0m\u001b[0m\n\u001b[0;32m----> 2\u001b[0;31m \u001b[0mckpt\u001b[0m \u001b[0;34m=\u001b[0m \u001b[0mT\u001b[0m\u001b[0;34m.\u001b[0m\u001b[0mload\u001b[0m\u001b[0;34m(\u001b[0m\u001b[0mmodel_path\u001b[0m\u001b[0;34m)\u001b[0m\u001b[0;34m\u001b[0m\u001b[0;34m\u001b[0m\u001b[0m\n\u001b[0m",
      "\u001b[0;32m~/anaconda3/envs/py3torch/lib/python3.7/site-packages/torch/serialization.py\u001b[0m in \u001b[0;36mload\u001b[0;34m(f, map_location, pickle_module, **pickle_load_args)\u001b[0m\n\u001b[1;32m    582\u001b[0m                     \u001b[0mopened_file\u001b[0m\u001b[0;34m.\u001b[0m\u001b[0mseek\u001b[0m\u001b[0;34m(\u001b[0m\u001b[0morig_position\u001b[0m\u001b[0;34m)\u001b[0m\u001b[0;34m\u001b[0m\u001b[0;34m\u001b[0m\u001b[0m\n\u001b[1;32m    583\u001b[0m                     \u001b[0;32mreturn\u001b[0m \u001b[0mtorch\u001b[0m\u001b[0;34m.\u001b[0m\u001b[0mjit\u001b[0m\u001b[0;34m.\u001b[0m\u001b[0mload\u001b[0m\u001b[0;34m(\u001b[0m\u001b[0mopened_file\u001b[0m\u001b[0;34m)\u001b[0m\u001b[0;34m\u001b[0m\u001b[0;34m\u001b[0m\u001b[0m\n\u001b[0;32m--> 584\u001b[0;31m                 \u001b[0;32mreturn\u001b[0m \u001b[0m_load\u001b[0m\u001b[0;34m(\u001b[0m\u001b[0mopened_zipfile\u001b[0m\u001b[0;34m,\u001b[0m \u001b[0mmap_location\u001b[0m\u001b[0;34m,\u001b[0m \u001b[0mpickle_module\u001b[0m\u001b[0;34m,\u001b[0m \u001b[0;34m**\u001b[0m\u001b[0mpickle_load_args\u001b[0m\u001b[0;34m)\u001b[0m\u001b[0;34m\u001b[0m\u001b[0;34m\u001b[0m\u001b[0m\n\u001b[0m\u001b[1;32m    585\u001b[0m         \u001b[0;32mreturn\u001b[0m \u001b[0m_legacy_load\u001b[0m\u001b[0;34m(\u001b[0m\u001b[0mopened_file\u001b[0m\u001b[0;34m,\u001b[0m \u001b[0mmap_location\u001b[0m\u001b[0;34m,\u001b[0m \u001b[0mpickle_module\u001b[0m\u001b[0;34m,\u001b[0m \u001b[0;34m**\u001b[0m\u001b[0mpickle_load_args\u001b[0m\u001b[0;34m)\u001b[0m\u001b[0;34m\u001b[0m\u001b[0;34m\u001b[0m\u001b[0m\n\u001b[1;32m    586\u001b[0m \u001b[0;34m\u001b[0m\u001b[0m\n",
      "\u001b[0;32m~/anaconda3/envs/py3torch/lib/python3.7/site-packages/torch/serialization.py\u001b[0m in \u001b[0;36m_load\u001b[0;34m(zip_file, map_location, pickle_module, **pickle_load_args)\u001b[0m\n\u001b[1;32m    840\u001b[0m     \u001b[0munpickler\u001b[0m \u001b[0;34m=\u001b[0m \u001b[0mpickle_module\u001b[0m\u001b[0;34m.\u001b[0m\u001b[0mUnpickler\u001b[0m\u001b[0;34m(\u001b[0m\u001b[0mdata_file\u001b[0m\u001b[0;34m,\u001b[0m \u001b[0;34m**\u001b[0m\u001b[0mpickle_load_args\u001b[0m\u001b[0;34m)\u001b[0m\u001b[0;34m\u001b[0m\u001b[0;34m\u001b[0m\u001b[0m\n\u001b[1;32m    841\u001b[0m     \u001b[0munpickler\u001b[0m\u001b[0;34m.\u001b[0m\u001b[0mpersistent_load\u001b[0m \u001b[0;34m=\u001b[0m \u001b[0mpersistent_load\u001b[0m\u001b[0;34m\u001b[0m\u001b[0;34m\u001b[0m\u001b[0m\n\u001b[0;32m--> 842\u001b[0;31m     \u001b[0mresult\u001b[0m \u001b[0;34m=\u001b[0m \u001b[0munpickler\u001b[0m\u001b[0;34m.\u001b[0m\u001b[0mload\u001b[0m\u001b[0;34m(\u001b[0m\u001b[0;34m)\u001b[0m\u001b[0;34m\u001b[0m\u001b[0;34m\u001b[0m\u001b[0m\n\u001b[0m\u001b[1;32m    843\u001b[0m \u001b[0;34m\u001b[0m\u001b[0m\n\u001b[1;32m    844\u001b[0m     \u001b[0;32mreturn\u001b[0m \u001b[0mresult\u001b[0m\u001b[0;34m\u001b[0m\u001b[0;34m\u001b[0m\u001b[0m\n",
      "\u001b[0;31mModuleNotFoundError\u001b[0m: No module named 'models'"
     ]
    }
   ],
   "source": [
    "model_path = \"./NAS-Lung/log/ckpt/model-1-ckpt-5.t7\"\n",
    "ckpt = T.load(model_path)"
   ]
  },
  {
   "cell_type": "code",
   "execution_count": null,
   "metadata": {},
   "outputs": [],
   "source": []
  },
  {
   "cell_type": "code",
   "execution_count": null,
   "metadata": {},
   "outputs": [],
   "source": [
    "import glob\n",
    "glob.glob(\"/media/DATA/LUNA16/crop/*.npy\")"
   ]
  },
  {
   "cell_type": "code",
   "execution_count": null,
   "metadata": {},
   "outputs": [],
   "source": [
    "print(len(glob.glob(\"/media/DATA/LUNA16/luna16/subsets/subset9/*.mhd\")))\n",
    "print(len(glob.glob(\"/media/DATA/LUNA16/preprocess/subset9/*_clean.npy\")))"
   ]
  },
  {
   "cell_type": "code",
   "execution_count": null,
   "metadata": {},
   "outputs": [],
   "source": [
    "osp.exists(\"/media/DATA/LUNA16/crop/1.3.6.1.4.1.14519.5.2.1.6279.6001.262736997975960398949912434623-0-0-0-0-0-0-0-0-0-0-0-0.npy\")\n",
    "            /media/DATA/LUNA16/crop/1.3.6.1.4.1.14519.5.2.1.6279.6001.262736997975960398949912434623-0-0-0-0-0-0-0-0-0-0-0-0-0.npy'"
   ]
  },
  {
   "cell_type": "code",
   "execution_count": null,
   "metadata": {},
   "outputs": [],
   "source": [
    "/media/DATA/LUNA16/crop/1.3.6.1.4.1.14519.5.2.1.6279.600.0-0-0-0-0-0"
   ]
  },
  {
   "cell_type": "code",
   "execution_count": null,
   "metadata": {},
   "outputs": [],
   "source": [
    "a = [osp.basename(i).replace(\".mhd\",\"\") for i in (glob.glob(\"/media/DATA/LUNA16/luna16/subsets/subset9/*.mhd\"))]\n",
    "b = [osp.basename(i).replace(\"_clean.npy\",\"\") for i in (glob.glob(\"/media/DATA/LUNA16/preprocess/subset9/*_clean.npy\"))]\n",
    "[i for i in a if i not in b]"
   ]
  },
  {
   "cell_type": "code",
   "execution_count": null,
   "metadata": {},
   "outputs": [],
   "source": [
    "a = np.load(\"/media/DATA/LUNA16/crop/1.3.6.1.4.1.14519.5.2.1.6279.6001.153536305742006952753134773630-11-11-11-11-11-11-11-11-11-11-11-11-11.npy\")\n",
    "print(a.shape)"
   ]
  },
  {
   "cell_type": "code",
   "execution_count": null,
   "metadata": {},
   "outputs": [],
   "source": [
    "b = np.load(\"data/crop/1.3.6.1.4.1.14519.5.2.1.6279.6001.194488534645348916700259325236-2-2-2-2-2-2-2-2-2-2-2-2-2.npy\")"
   ]
  },
  {
   "cell_type": "code",
   "execution_count": null,
   "metadata": {},
   "outputs": [],
   "source": [
    "c = np.load(\"data/crop/1.3.6.1.4.1.14519.5.2.1.6279.6001.262736997975960398949912434623-1-1-1-1-1-1-1-1-1-1-1-1-1.npy\")"
   ]
  },
  {
   "cell_type": "code",
   "execution_count": null,
   "metadata": {},
   "outputs": [],
   "source": [
    "def visualize_nod_block(file_name):\n",
    "    a = np.load(file_name)\n",
    "    n_steps = 2\n",
    "    n_rows  = 4\n",
    "    n_cols  = 4\n",
    "    fig,axs = plt.subplots(n_rows,n_cols,figsize=(15,15))\n",
    "    for i in range(n_rows * n_cols):\n",
    "        axs[int(i/n_cols), int((i%n_cols))].imshow(a[:,:, i * n_steps], cmap = \"bone\")\n",
    "        axs[int(i/n_cols), int((i%n_cols))].axis(\"off\")\n",
    "visualize_nod_block(\"/media/DATA/LUNA16/crop/1.3.6.1.4.1.14519.5.2.1.6279.6001.153536305742006952753134773630-12-12-12-12-12-12-12-12-12-12-12-12-12.npy\")"
   ]
  },
  {
   "cell_type": "code",
   "execution_count": null,
   "metadata": {},
   "outputs": [],
   "source": [
    "plt.imshow(b[:,:,10], cmap = \"bone\")"
   ]
  },
  {
   "cell_type": "code",
   "execution_count": null,
   "metadata": {},
   "outputs": [],
   "source": [
    "plt.imshow(a[:,:,16], cmap=\"bone\")"
   ]
  },
  {
   "cell_type": "code",
   "execution_count": null,
   "metadata": {},
   "outputs": [],
   "source": [
    "dcom_clean = np.load(\"/media/DATA/LUNA16/preprocess/subset5/1.3.6.1.4.1.14519.5.2.1.6279.6001.262736997975960398949912434623_clean.npy\")"
   ]
  },
  {
   "cell_type": "code",
   "execution_count": null,
   "metadata": {},
   "outputs": [],
   "source": [
    "osp.exists(\"/media/DATA/LUNA16/luna16/subsets/subset9/1.3.6.1.4.1.14519.5.2.1.6279.6001.771741891125176943862272696845.mhd\")"
   ]
  },
  {
   "cell_type": "code",
   "execution_count": null,
   "metadata": {},
   "outputs": [],
   "source": [
    "def load_dcom_image(file_name):\n",
    "    itkImage = sitk.ReadImage(file_name)\n",
    "    \n",
    "    return sitk.GetArrayFromImage(itkImage) #.transpose(1,2,0)\n",
    "\n",
    "full_dcom = load_dcom_image(\"media/DATA/LUNA16/luna16/subsets/subset9/1.3.6.1.4.1.14519.5.2.1.6279.6001.262736997975960398949912434623.mhd\")\n",
    "plt.figure(figsize = (10,10))\n",
    "plt.imshow(full_dcom[98,:,:], cmap = \"bone\")\n",
    "\n",
    "# Get the current reference\n",
    "ax = plt.gca()\n",
    "\n",
    "# Create a Rectangle patch\n",
    "rect = Rectangle((93 -16,286 - 16),32,32,linewidth=1,edgecolor='r',facecolor='none')\n",
    "# Add the patch to the Axes\n",
    "ax.add_patch(rect)"
   ]
  },
  {
   "cell_type": "code",
   "execution_count": null,
   "metadata": {},
   "outputs": [],
   "source": [
    "def load_dcom_image(file_name):\n",
    "    itkImage = sitk.ReadImage(file_name)\n",
    "    ix,iy,iz = itkImage.TransformPhysicalPointToIndex((112.4969508, -43.72684601, -199.0055588))\n",
    "    print(\"Origin: \", itkImage.GetOrigin())\n",
    "    return ix, iy, iz, sitk.GetArrayFromImage(itkImage) #.transpose(1,2,0)\n",
    "\n",
    "ix, iy, iz, full_dcom = load_dcom_image(\"../cig_luna16_experiments/luna16/subsets/subset2/1.3.6.1.4.1.14519.5.2.1.6279.6001.153536305742006952753134773630.mhd\")\n",
    "plt.figure(figsize = (10,10))\n",
    "# ix, iy, iz = 128, 46, 211\n",
    "plt.imshow(full_dcom[iz,:,:], cmap = \"bone\")\n",
    "\n",
    "# Get the current reference\n",
    "ax = plt.gca()\n",
    "\n",
    "# Create a Rectangle patch\n",
    "rect = Rectangle((ix -16,iy - 16),32,32,linewidth=1,edgecolor='r',facecolor='none')\n",
    "# Add the patch to the Axes\n",
    "ax.add_patch(rect)\n",
    "print(iz, ix,iy)\n",
    "print(full_dcom.shape)"
   ]
  },
  {
   "cell_type": "code",
   "execution_count": null,
   "metadata": {},
   "outputs": [],
   "source": [
    "1.3.6.1.4.1.14519.5.2.1.6279.6001.153536305742006952753134773630-11-11-11-11-11-11-11-11-11-11-11-11,128.74444120000004,46.273153989999997,211.79695379999998,12.817025600000001,1"
   ]
  },
  {
   "cell_type": "code",
   "execution_count": null,
   "metadata": {},
   "outputs": [],
   "source": [
    "z = 98\n",
    "x = 93\n",
    "y = 286\n",
    "smpl_uint  = (full_dcom[z] * 255).astype(np.uint8)\n",
    "smpl_pil   = Image.fromarray(np.concatenate([smpl_uint[...,np.newaxis]]*3, axis = 2))\n",
    "#Draw bbox\n",
    "smpl_drw = ImageDraw.Draw(smpl_pil)\n",
    "smpl_drw.point([y,x], fill='green')\n",
    "smpl_drw.rectangle([(x-10, y-10),(x+10,y+10)], outline = 'green')\n",
    "smpl_pil"
   ]
  },
  {
   "cell_type": "code",
   "execution_count": null,
   "metadata": {},
   "outputs": [],
   "source": [
    "512-93\n"
   ]
  },
  {
   "cell_type": "code",
   "execution_count": null,
   "metadata": {},
   "outputs": [],
   "source": [
    "512-286"
   ]
  },
  {
   "cell_type": "code",
   "execution_count": null,
   "metadata": {},
   "outputs": [],
   "source": [
    "140.50449130000001,101.82240179999999,43.292203999999998,4.5700906979999996"
   ]
  },
  {
   "cell_type": "code",
   "execution_count": null,
   "metadata": {},
   "outputs": [],
   "source": []
  }
 ],
 "metadata": {
  "kernelspec": {
   "display_name": "Python 3",
   "language": "python",
   "name": "python3"
  },
  "language_info": {
   "codemirror_mode": {
    "name": "ipython",
    "version": 3
   },
   "file_extension": ".py",
   "mimetype": "text/x-python",
   "name": "python",
   "nbconvert_exporter": "python",
   "pygments_lexer": "ipython3",
   "version": "3.7.6"
  }
 },
 "nbformat": 4,
 "nbformat_minor": 4
}
